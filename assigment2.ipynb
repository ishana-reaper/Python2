{
  "nbformat": 4,
  "nbformat_minor": 0,
  "metadata": {
    "colab": {
      "name": "assigment2.ipynb",
      "provenance": [],
      "authorship_tag": "ABX9TyNC5HCCAEJ068nevhVpOq+q",
      "include_colab_link": true
    },
    "kernelspec": {
      "name": "python3",
      "display_name": "Python 3"
    }
  },
  "cells": [
    {
      "cell_type": "markdown",
      "metadata": {
        "id": "view-in-github",
        "colab_type": "text"
      },
      "source": [
        "<a href=\"https://colab.research.google.com/github/ishana-reaper/Python2/blob/master/assigment2.ipynb\" target=\"_parent\"><img src=\"https://colab.research.google.com/assets/colab-badge.svg\" alt=\"Open In Colab\"/></a>"
      ]
    },
    {
      "cell_type": "code",
      "metadata": {
        "id": "MpTceoiAeA7e",
        "colab_type": "code",
        "colab": {
          "base_uri": "https://localhost:8080/",
          "height": 34
        },
        "outputId": "1dfa1b2f-5d87-4b81-8fa3-5b166f2504f4"
      },
      "source": [
        "print(\"Hi python\")"
      ],
      "execution_count": 2,
      "outputs": [
        {
          "output_type": "stream",
          "text": [
            "Hi python\n"
          ],
          "name": "stdout"
        }
      ]
    },
    {
      "cell_type": "code",
      "metadata": {
        "id": "6pUlNPB_esgF",
        "colab_type": "code",
        "colab": {
          "base_uri": "https://localhost:8080/",
          "height": 34
        },
        "outputId": "b5fb94e1-e916-4066-a413-6bb69e61f2a6"
      },
      "source": [
        "print(\"I'm a pilot\")"
      ],
      "execution_count": 4,
      "outputs": [
        {
          "output_type": "stream",
          "text": [
            "I'm a pilot\n"
          ],
          "name": "stdout"
        }
      ]
    },
    {
      "cell_type": "code",
      "metadata": {
        "id": "6N15rdmcfG2e",
        "colab_type": "code",
        "colab": {}
      },
      "source": [
        "Feet1=1000\n",
        "Feet2=5000\n",
        "Feet3=6500"
      ],
      "execution_count": 34,
      "outputs": []
    },
    {
      "cell_type": "code",
      "metadata": {
        "id": "qbZLd3ydfOZ7",
        "colab_type": "code",
        "colab": {
          "base_uri": "https://localhost:8080/",
          "height": 34
        },
        "outputId": "a6855ca0-87ac-4f7d-844b-b3c3efd62ee3"
      },
      "source": [
        "if Feet1 <=1000:\n",
        "    print(\"Safe zone\")\n",
        "elif Feet1 <=5000:\n",
        "    print(\"Bring down to 1000\")   \n",
        "else:\n",
        "    print(\"Trun round\")    \n"
      ],
      "execution_count": 35,
      "outputs": [
        {
          "output_type": "stream",
          "text": [
            "Safe zone\n"
          ],
          "name": "stdout"
        }
      ]
    },
    {
      "cell_type": "code",
      "metadata": {
        "id": "ddD5DoKnklGI",
        "colab_type": "code",
        "colab": {
          "base_uri": "https://localhost:8080/",
          "height": 34
        },
        "outputId": "ab6b9fc3-a1fe-461f-cacb-0377e370a7ff"
      },
      "source": [
        "if Feet2 <=1000:\n",
        "    print(\"Safe zone\")\n",
        "elif Feet2 <=5000:\n",
        "    print(\"Bring down to 1000\")   \n",
        "else:\n",
        "    print(\"Trun round\")    \n"
      ],
      "execution_count": 31,
      "outputs": [
        {
          "output_type": "stream",
          "text": [
            "Bring down to 1000\n"
          ],
          "name": "stdout"
        }
      ]
    },
    {
      "cell_type": "code",
      "metadata": {
        "id": "kldcAIY2lSDQ",
        "colab_type": "code",
        "colab": {
          "base_uri": "https://localhost:8080/",
          "height": 34
        },
        "outputId": "5fe9bdb2-4c6c-4a04-ecc1-fda8f362b479"
      },
      "source": [
        "if Feet3 <=1000:\n",
        "    print(\"Safe zone\")\n",
        "elif Feet3 <=5000:\n",
        "    print(\"Bring down to 1000\")   \n",
        "else:\n",
        "    print(\"Trun round\")    "
      ],
      "execution_count": 32,
      "outputs": [
        {
          "output_type": "stream",
          "text": [
            "Trun round\n"
          ],
          "name": "stdout"
        }
      ]
    }
  ]
}